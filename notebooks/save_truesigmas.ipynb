{
 "cells": [
  {
   "cell_type": "code",
   "execution_count": 1,
   "id": "75543ecf",
   "metadata": {},
   "outputs": [],
   "source": [
    "import torch\n",
    "import rocket as rk\n",
    "from rocket.llg import structurefactors as llg_sf\n",
    "import numpy as np"
   ]
  },
  {
   "cell_type": "code",
   "execution_count": 2,
   "id": "db5d3143",
   "metadata": {},
   "outputs": [],
   "source": [
    "tng_file = \"../../run_openfold/test_cases/6lzm/6lzm-tng_withrfree.mtz\"\n",
    "tng = rk.utils.load_mtz(tng_file)"
   ]
  },
  {
   "cell_type": "code",
   "execution_count": 3,
   "id": "5a758e0d",
   "metadata": {},
   "outputs": [],
   "source": [
    "true_pdb = \"../../run_openfold/test_cases/6lzm/6lzm_noalts.pdb\""
   ]
  },
  {
   "cell_type": "code",
   "execution_count": 4,
   "id": "c97b3f77",
   "metadata": {},
   "outputs": [
    {
     "name": "stdout",
     "output_type": "stream",
     "text": [
      "tensor([1135837.6250,  947530.2500,  839351.8125, 1193766.2500, 1521719.5000,\n",
      "        1332498.3750,  977166.1250,  728949.8750,  566573.0625,  382227.2812,\n",
      "         330058.7188,  258629.7656,  189224.2031,  179856.7969,  161263.8438,\n",
      "         138684.0000,  135730.1875,  124165.9844,  107336.3672,   91685.8828,\n",
      "          73555.0000,   65642.3359,   55153.4492,   44488.5391,   41224.5078,\n",
      "          40820.4336,   31143.1152,   28760.1875], device='cuda:0')\n"
     ]
    }
   ],
   "source": [
    "# Ensures the same HKLs are kept as from PhaserTNG\n",
    "eps = torch.tensor(tng[\"EPS\"].values, device=rk.utils.try_gpu())\n",
    "bin_labels = torch.tensor(tng[\"BIN\"].values, device=rk.utils.try_gpu())\n",
    "sfc_true = llg_sf.initial_SFC(\n",
    "        true_pdb, tng_file, \"FP\", \"SIGFP\", Freelabel=\"R-free-flags\", device=\"cuda:0\"\n",
    "    )\n",
    "\n",
    "amps_true = torch.tensor(tng[\"FEFF\"].values, device=rk.utils.try_gpu())\n",
    "\n",
    "sigmaN_true = llg_sf.calculate_Sigma_atoms(amps_true, eps, bin_labels)\n",
    "print(sigmaN_true)\n",
    "\n",
    "E_true = llg_sf.normalize_Fs(\n",
    "    amps_true,\n",
    "    eps,\n",
    "    sigmaN_true,\n",
    "    bin_labels,\n",
    ")\n",
    "\n",
    "Fs = getattr(sfc_true,  \"Ftotal_HKL\")\n",
    "phitrue = rk.utils.assert_numpy(\n",
    "    llg_sf.ftotal_phis(Fs, np.array(tng[\"dHKL\"]))\n",
    ")\n"
   ]
  },
  {
   "cell_type": "code",
   "execution_count": 5,
   "id": "3fb4b713",
   "metadata": {},
   "outputs": [],
   "source": [
    "#np.save(\"../../run_openfold/test_cases/6lzm/6lzm_allchains-Etrue-solventTrue.npy\", rk.utils.assert_numpy(E_true))\n",
    "#np.save(\"../../run_openfold/test_cases/6lzm/6lzm_allchains-phitrue-solventTrue.npy\", phitrue)"
   ]
  },
  {
   "cell_type": "code",
   "execution_count": null,
   "id": "619a4c2d",
   "metadata": {},
   "outputs": [],
   "source": []
  }
 ],
 "metadata": {
  "kernelspec": {
   "display_name": "Python 3 (ipykernel)",
   "language": "python",
   "name": "python3"
  },
  "language_info": {
   "codemirror_mode": {
    "name": "ipython",
    "version": 3
   },
   "file_extension": ".py",
   "mimetype": "text/x-python",
   "name": "python",
   "nbconvert_exporter": "python",
   "pygments_lexer": "ipython3",
   "version": "3.9.17"
  }
 },
 "nbformat": 4,
 "nbformat_minor": 5
}
